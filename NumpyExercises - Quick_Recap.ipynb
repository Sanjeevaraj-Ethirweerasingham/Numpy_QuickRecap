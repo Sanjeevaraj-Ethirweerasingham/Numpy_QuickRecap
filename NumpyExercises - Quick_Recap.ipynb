{
 "cells": [
  {
   "cell_type": "markdown",
   "id": "1c8a4110",
   "metadata": {},
   "source": [
    "### Quick Recap of Numpy\n"
   ]
  },
  {
   "cell_type": "code",
   "execution_count": 1,
   "id": "820b003a",
   "metadata": {},
   "outputs": [],
   "source": [
    "import numpy as np\n"
   ]
  },
  {
   "cell_type": "code",
   "execution_count": 2,
   "id": "99a28daf",
   "metadata": {},
   "outputs": [],
   "source": [
    "first_numpy_array= np.array([1,2,3,4])\n"
   ]
  },
  {
   "cell_type": "code",
   "execution_count": 3,
   "id": "1879ad3f",
   "metadata": {},
   "outputs": [
    {
     "name": "stdout",
     "output_type": "stream",
     "text": [
      "[1 2 3 4]\n"
     ]
    }
   ],
   "source": [
    "print(first_numpy_array)"
   ]
  },
  {
   "cell_type": "code",
   "execution_count": 4,
   "id": "a523f7aa",
   "metadata": {},
   "outputs": [],
   "source": [
    "#arrays with zeros # use paranthesis for zero array\n",
    "zero_array = np.zeros((3,3))"
   ]
  },
  {
   "cell_type": "code",
   "execution_count": 5,
   "id": "3967c5a5",
   "metadata": {},
   "outputs": [
    {
     "data": {
      "text/plain": [
       "array([[0., 0., 0.],\n",
       "       [0., 0., 0.],\n",
       "       [0., 0., 0.]])"
      ]
     },
     "execution_count": 5,
     "metadata": {},
     "output_type": "execute_result"
    }
   ],
   "source": [
    "zero_array"
   ]
  },
  {
   "cell_type": "code",
   "execution_count": 6,
   "id": "2fd956e8",
   "metadata": {},
   "outputs": [
    {
     "data": {
      "text/plain": [
       "array([[1., 1., 1.],\n",
       "       [1., 1., 1.],\n",
       "       [1., 1., 1.]])"
      ]
     },
     "execution_count": 6,
     "metadata": {},
     "output_type": "execute_result"
    }
   ],
   "source": [
    "#array with ones # paranthesis instead of square brackets\n",
    "one_array = np.ones((3,3))\n",
    "one_array"
   ]
  },
  {
   "cell_type": "code",
   "execution_count": 9,
   "id": "c6674662",
   "metadata": {},
   "outputs": [
    {
     "data": {
      "text/plain": [
       "array([[0., 0., 0.],\n",
       "       [0., 0., 0.],\n",
       "       [0., 0., 0.],\n",
       "       [0., 0., 0.],\n",
       "       [0., 0., 0.]])"
      ]
     },
     "execution_count": 9,
     "metadata": {},
     "output_type": "execute_result"
    }
   ],
   "source": [
    "# array with empty -- create random array\n",
    "empty_array = np.empty((5,3))\n",
    "empty_array"
   ]
  },
  {
   "cell_type": "code",
   "execution_count": 14,
   "id": "4b7f9e21",
   "metadata": {},
   "outputs": [
    {
     "data": {
      "text/plain": [
       "array([ 0,  1,  2,  3,  4,  5,  6,  7,  8,  9, 10, 11])"
      ]
     },
     "execution_count": 14,
     "metadata": {},
     "output_type": "execute_result"
    }
   ],
   "source": [
    "#array with arange method\n",
    "arange_array = np.arange(12)\n",
    "arange_array"
   ]
  },
  {
   "cell_type": "code",
   "execution_count": 22,
   "id": "8162d841",
   "metadata": {},
   "outputs": [
    {
     "data": {
      "text/plain": [
       "array([[ 0,  1,  2,  3],\n",
       "       [ 4,  5,  6,  7],\n",
       "       [ 8,  9, 10, 11]])"
      ]
     },
     "execution_count": 22,
     "metadata": {},
     "output_type": "execute_result"
    }
   ],
   "source": [
    "#reshape the array \n",
    "reshape_array = arange_array.reshape(3,4)\n",
    "reshape_array\n"
   ]
  },
  {
   "cell_type": "code",
   "execution_count": 37,
   "id": "36c839b5",
   "metadata": {},
   "outputs": [
    {
     "name": "stdout",
     "output_type": "stream",
     "text": [
      "[1.   2.25 3.5  4.75 6.  ]\n"
     ]
    }
   ],
   "source": [
    "#Linspace for equally spaced data elememts -- np.linspace(first_element,last_element,number_of_equidistanct_element)\n",
    "lin_space = np.linspace(1,6,5)\n",
    "print(lin_space)\n"
   ]
  },
  {
   "cell_type": "code",
   "execution_count": 30,
   "id": "8318367f",
   "metadata": {},
   "outputs": [
    {
     "data": {
      "text/plain": [
       "array([ 0,  1,  2,  3,  4,  5,  6,  7,  8,  9, 10, 11, 12, 13, 14])"
      ]
     },
     "execution_count": 30,
     "metadata": {},
     "output_type": "execute_result"
    }
   ],
   "source": [
    "#1-D arrays\n",
    "one_array = np.arange(15)\n",
    "one_array"
   ]
  },
  {
   "cell_type": "code",
   "execution_count": 107,
   "id": "b10e538e",
   "metadata": {},
   "outputs": [
    {
     "data": {
      "text/plain": [
       "array([[ 0,  1,  2,  3,  4],\n",
       "       [ 5,  6,  7,  8,  9],\n",
       "       [10, 11, 12, 13, 14]])"
      ]
     },
     "execution_count": 107,
     "metadata": {},
     "output_type": "execute_result"
    }
   ],
   "source": [
    "#2-D arrays\n",
    "two_array = one_array.reshape(3,5)\n",
    "(two_array)"
   ]
  },
  {
   "cell_type": "code",
   "execution_count": 106,
   "id": "37a1b4f9",
   "metadata": {},
   "outputs": [
    {
     "data": {
      "text/plain": [
       "array([[[ 0,  1,  2,  3,  4]],\n",
       "\n",
       "       [[ 5,  6,  7,  8,  9]],\n",
       "\n",
       "       [[10, 11, 12, 13, 14]]])"
      ]
     },
     "execution_count": 106,
     "metadata": {},
     "output_type": "execute_result"
    }
   ],
   "source": [
    "#3-D arrays\n",
    "three_array = one_array.reshape(3,1,5)\n",
    "(three_array)"
   ]
  },
  {
   "cell_type": "code",
   "execution_count": 39,
   "id": "419d59a3",
   "metadata": {},
   "outputs": [
    {
     "data": {
      "text/plain": [
       "array(24)"
      ]
     },
     "execution_count": 39,
     "metadata": {},
     "output_type": "execute_result"
    }
   ],
   "source": [
    "# 0-D arrays\n",
    "zero_array = np.array(24)\n",
    "zero_array"
   ]
  },
  {
   "cell_type": "code",
   "execution_count": 40,
   "id": "5db5b9e5",
   "metadata": {},
   "outputs": [
    {
     "data": {
      "text/plain": [
       "(3, 1, 5)"
      ]
     },
     "execution_count": 40,
     "metadata": {},
     "output_type": "execute_result"
    }
   ],
   "source": [
    "# shape\n",
    "three_array.shape "
   ]
  },
  {
   "cell_type": "code",
   "execution_count": 47,
   "id": "81352b5f",
   "metadata": {},
   "outputs": [
    {
     "data": {
      "text/plain": [
       "2"
      ]
     },
     "execution_count": 47,
     "metadata": {},
     "output_type": "execute_result"
    }
   ],
   "source": [
    "# Dimensions -- 0D,1D,2D,3D\n",
    "two_array.ndim"
   ]
  },
  {
   "cell_type": "code",
   "execution_count": null,
   "id": "d80312e0",
   "metadata": {},
   "outputs": [],
   "source": []
  },
  {
   "cell_type": "code",
   "execution_count": null,
   "id": "e7fcd1d0",
   "metadata": {},
   "outputs": [],
   "source": []
  },
  {
   "cell_type": "code",
   "execution_count": null,
   "id": "e0a9703c",
   "metadata": {},
   "outputs": [],
   "source": []
  },
  {
   "cell_type": "code",
   "execution_count": 53,
   "id": "24bcf45a",
   "metadata": {},
   "outputs": [
    {
     "name": "stdout",
     "output_type": "stream",
     "text": [
      "[ 1  2  3  4  5  6  7  8  9 10 11 12]\n"
     ]
    }
   ],
   "source": [
    "numpy_arr = np.array([x for x in range (1,13)])\n",
    "print(numpy_arr)"
   ]
  },
  {
   "cell_type": "code",
   "execution_count": 55,
   "id": "35b56023",
   "metadata": {},
   "outputs": [
    {
     "name": "stdout",
     "output_type": "stream",
     "text": [
      "[[[ 1  2  3]\n",
      "  [ 4  5  6]]\n",
      "\n",
      " [[ 7  8  9]\n",
      "  [10 11 12]]]\n"
     ]
    }
   ],
   "source": [
    "## when number of elements not known for a bigdata set we can us this -- 3-D -- use -1 in the last\n",
    "three_arr = numpy_arr.reshape(2,2,-1)\n",
    "print(three_arr)\n"
   ]
  },
  {
   "cell_type": "code",
   "execution_count": 59,
   "id": "d2d82ba8",
   "metadata": {},
   "outputs": [
    {
     "data": {
      "text/plain": [
       "array([ 1,  2,  3,  4,  5,  6,  7,  8,  9, 10, 11, 12])"
      ]
     },
     "execution_count": 59,
     "metadata": {},
     "output_type": "execute_result"
    }
   ],
   "source": [
    "#flatten the matrices\n",
    "three_arr.reshape(-1)"
   ]
  },
  {
   "cell_type": "code",
   "execution_count": 60,
   "id": "46a743d4",
   "metadata": {},
   "outputs": [
    {
     "data": {
      "text/plain": [
       "array([[ 1,  2,  3,  4,  5,  6],\n",
       "       [ 7,  8,  9, 10, 11, 12]])"
      ]
     },
     "execution_count": 60,
     "metadata": {},
     "output_type": "execute_result"
    }
   ],
   "source": [
    "three_arr.reshape(2,-1)"
   ]
  },
  {
   "cell_type": "code",
   "execution_count": null,
   "id": "a9327074",
   "metadata": {},
   "outputs": [],
   "source": []
  },
  {
   "cell_type": "code",
   "execution_count": null,
   "id": "c28f5fa2",
   "metadata": {},
   "outputs": [],
   "source": []
  },
  {
   "cell_type": "code",
   "execution_count": 69,
   "id": "c15f60c2",
   "metadata": {},
   "outputs": [],
   "source": [
    "#ARITHMETIC OPERATIONS\n",
    "import numpy as np\n"
   ]
  },
  {
   "cell_type": "code",
   "execution_count": 79,
   "id": "db82395c",
   "metadata": {},
   "outputs": [],
   "source": [
    "A = np.array([[1,2,3,4],[9,7,5,2]])\n",
    "B = np.array([5,6,7,8])\n"
   ]
  },
  {
   "cell_type": "code",
   "execution_count": 80,
   "id": "1a0dcbe8",
   "metadata": {},
   "outputs": [
    {
     "data": {
      "text/plain": [
       "array([[1, 2, 3, 4],\n",
       "       [9, 7, 5, 2]])"
      ]
     },
     "execution_count": 80,
     "metadata": {},
     "output_type": "execute_result"
    }
   ],
   "source": [
    "A\n"
   ]
  },
  {
   "cell_type": "code",
   "execution_count": 81,
   "id": "708e72b3",
   "metadata": {},
   "outputs": [
    {
     "data": {
      "text/plain": [
       "array([5, 6, 7, 8])"
      ]
     },
     "execution_count": 81,
     "metadata": {},
     "output_type": "execute_result"
    }
   ],
   "source": [
    "B"
   ]
  },
  {
   "cell_type": "code",
   "execution_count": 82,
   "id": "064cf653",
   "metadata": {},
   "outputs": [
    {
     "data": {
      "text/plain": [
       "array([[ 6,  8, 10, 12],\n",
       "       [14, 13, 12, 10]])"
      ]
     },
     "execution_count": 82,
     "metadata": {},
     "output_type": "execute_result"
    }
   ],
   "source": [
    "#Addition\n",
    "np.add(A,B)\n"
   ]
  },
  {
   "cell_type": "code",
   "execution_count": 83,
   "id": "65661fad",
   "metadata": {},
   "outputs": [
    {
     "data": {
      "text/plain": [
       "array([[ 4,  4,  4,  4],\n",
       "       [-4, -1,  2,  6]])"
      ]
     },
     "execution_count": 83,
     "metadata": {},
     "output_type": "execute_result"
    }
   ],
   "source": [
    "#subtraction\n",
    "np.subtract(B,A)"
   ]
  },
  {
   "cell_type": "code",
   "execution_count": 84,
   "id": "aea7b1d3",
   "metadata": {},
   "outputs": [
    {
     "data": {
      "text/plain": [
       "array([[ 5, 12, 21, 32],\n",
       "       [45, 42, 35, 16]])"
      ]
     },
     "execution_count": 84,
     "metadata": {},
     "output_type": "execute_result"
    }
   ],
   "source": [
    "#multiply\n",
    "np.multiply(A,B)"
   ]
  },
  {
   "cell_type": "code",
   "execution_count": 86,
   "id": "a6f5d872",
   "metadata": {},
   "outputs": [
    {
     "data": {
      "text/plain": [
       "array([[0.2       , 0.33333333, 0.42857143, 0.5       ],\n",
       "       [1.8       , 1.16666667, 0.71428571, 0.25      ]])"
      ]
     },
     "execution_count": 86,
     "metadata": {},
     "output_type": "execute_result"
    }
   ],
   "source": [
    "#divide\n",
    "np.divide(A,B)"
   ]
  },
  {
   "cell_type": "code",
   "execution_count": 89,
   "id": "bf64d09b",
   "metadata": {},
   "outputs": [
    {
     "name": "stdout",
     "output_type": "stream",
     "text": [
      "[[ 1  4  9 16]\n",
      " [81 49 25  4]]\n"
     ]
    }
   ],
   "source": [
    "#exponetial\n",
    "print(np.power(A,2))"
   ]
  },
  {
   "cell_type": "code",
   "execution_count": 91,
   "id": "4012b5d8",
   "metadata": {},
   "outputs": [
    {
     "name": "stdout",
     "output_type": "stream",
     "text": [
      "[[     1     64   2187  65536]\n",
      " [ 59049 117649  78125    256]]\n"
     ]
    }
   ],
   "source": [
    "print(np.power(A,B))"
   ]
  },
  {
   "cell_type": "code",
   "execution_count": null,
   "id": "79f4fbc4",
   "metadata": {},
   "outputs": [],
   "source": []
  },
  {
   "cell_type": "code",
   "execution_count": null,
   "id": "89960c1b",
   "metadata": {},
   "outputs": [],
   "source": []
  },
  {
   "cell_type": "code",
   "execution_count": null,
   "id": "767abca9",
   "metadata": {},
   "outputs": [],
   "source": []
  },
  {
   "cell_type": "code",
   "execution_count": 92,
   "id": "b577c6a5",
   "metadata": {},
   "outputs": [],
   "source": [
    "## CONDITIONAL STATEMENTS"
   ]
  },
  {
   "cell_type": "code",
   "execution_count": null,
   "id": "69032b39",
   "metadata": {},
   "outputs": [],
   "source": []
  },
  {
   "cell_type": "code",
   "execution_count": 93,
   "id": "2c04b501",
   "metadata": {},
   "outputs": [],
   "source": [
    "#Where\n"
   ]
  },
  {
   "cell_type": "code",
   "execution_count": 94,
   "id": "0c42f1ba",
   "metadata": {},
   "outputs": [],
   "source": [
    "import numpy as np"
   ]
  },
  {
   "cell_type": "code",
   "execution_count": 97,
   "id": "96603b29",
   "metadata": {},
   "outputs": [
    {
     "data": {
      "text/plain": [
       "array([ 1,  2,  3,  4,  5,  6,  7,  8,  9, 10])"
      ]
     },
     "execution_count": 97,
     "metadata": {},
     "output_type": "execute_result"
    }
   ],
   "source": [
    "arr_1 = np.array([x for x in range (1,11)])\n",
    "arr_1"
   ]
  },
  {
   "cell_type": "code",
   "execution_count": 101,
   "id": "b4f3ca0d",
   "metadata": {},
   "outputs": [
    {
     "name": "stdout",
     "output_type": "stream",
     "text": [
      "['Odd' 'Even' 'Odd' 'Even' 'Odd' 'Even' 'Odd' 'Even' 'Odd' 'Even']\n"
     ]
    }
   ],
   "source": [
    "print(np.where(arr_1%2==0,\"Even\",\"Odd\"))"
   ]
  },
  {
   "cell_type": "code",
   "execution_count": null,
   "id": "967ce844",
   "metadata": {},
   "outputs": [],
   "source": [
    "\n",
    "\n"
   ]
  },
  {
   "cell_type": "code",
   "execution_count": 102,
   "id": "501bfc4d",
   "metadata": {},
   "outputs": [],
   "source": [
    "#Select"
   ]
  },
  {
   "cell_type": "code",
   "execution_count": 104,
   "id": "5b19e23c",
   "metadata": {},
   "outputs": [
    {
     "data": {
      "text/plain": [
       "array([  1,   8,  27,  64,   5,  36,  49,  64,  81, 100])"
      ]
     },
     "execution_count": 104,
     "metadata": {},
     "output_type": "execute_result"
    }
   ],
   "source": [
    "cond_list = [arr_1>5,arr_1<5]\n",
    "choice_list = [arr_1**2,arr_1**3]\n",
    "\n",
    "np.select(cond_list,choice_list,default=arr_1)"
   ]
  },
  {
   "cell_type": "code",
   "execution_count": null,
   "id": "5928a80b",
   "metadata": {},
   "outputs": [],
   "source": []
  },
  {
   "cell_type": "code",
   "execution_count": null,
   "id": "7650a8ed",
   "metadata": {},
   "outputs": [],
   "source": []
  },
  {
   "cell_type": "code",
   "execution_count": 108,
   "id": "ff589600",
   "metadata": {},
   "outputs": [],
   "source": [
    "#Statistical functions"
   ]
  },
  {
   "cell_type": "code",
   "execution_count": null,
   "id": "20f7bfc8",
   "metadata": {},
   "outputs": [],
   "source": []
  },
  {
   "cell_type": "code",
   "execution_count": 110,
   "id": "6be09dab",
   "metadata": {},
   "outputs": [
    {
     "data": {
      "text/plain": [
       "array([[1, 2, 3],\n",
       "       [4, 5, 6],\n",
       "       [7, 8, 9]])"
      ]
     },
     "execution_count": 110,
     "metadata": {},
     "output_type": "execute_result"
    }
   ],
   "source": [
    "arr = np.array([[1,2,3],[4,5,6],[7,8,9]])\n",
    "arr"
   ]
  },
  {
   "cell_type": "code",
   "execution_count": 111,
   "id": "d29601ae",
   "metadata": {},
   "outputs": [
    {
     "data": {
      "text/plain": [
       "1"
      ]
     },
     "execution_count": 111,
     "metadata": {},
     "output_type": "execute_result"
    }
   ],
   "source": [
    "np.min(arr)"
   ]
  },
  {
   "cell_type": "code",
   "execution_count": 112,
   "id": "b1060bdd",
   "metadata": {},
   "outputs": [
    {
     "data": {
      "text/plain": [
       "9"
      ]
     },
     "execution_count": 112,
     "metadata": {},
     "output_type": "execute_result"
    }
   ],
   "source": [
    "np.max(arr)"
   ]
  },
  {
   "cell_type": "code",
   "execution_count": 113,
   "id": "9ca6ae4a",
   "metadata": {},
   "outputs": [
    {
     "data": {
      "text/plain": [
       "array([1, 2, 3])"
      ]
     },
     "execution_count": 113,
     "metadata": {},
     "output_type": "execute_result"
    }
   ],
   "source": [
    "np.amin(arr,axis=0)"
   ]
  },
  {
   "cell_type": "code",
   "execution_count": 114,
   "id": "1bc2363f",
   "metadata": {},
   "outputs": [
    {
     "data": {
      "text/plain": [
       "array([1, 4, 7])"
      ]
     },
     "execution_count": 114,
     "metadata": {},
     "output_type": "execute_result"
    }
   ],
   "source": [
    "np.amin(arr,axis=1)"
   ]
  },
  {
   "cell_type": "code",
   "execution_count": 115,
   "id": "c0674180",
   "metadata": {},
   "outputs": [
    {
     "data": {
      "text/plain": [
       "array([7, 8, 9])"
      ]
     },
     "execution_count": 115,
     "metadata": {},
     "output_type": "execute_result"
    }
   ],
   "source": [
    "np.amax(arr,axis=0)"
   ]
  },
  {
   "cell_type": "code",
   "execution_count": 116,
   "id": "6afb5330",
   "metadata": {},
   "outputs": [
    {
     "data": {
      "text/plain": [
       "5.0"
      ]
     },
     "execution_count": 116,
     "metadata": {},
     "output_type": "execute_result"
    }
   ],
   "source": [
    "np.mean(arr)"
   ]
  },
  {
   "cell_type": "code",
   "execution_count": 117,
   "id": "fbecc4a9",
   "metadata": {},
   "outputs": [
    {
     "data": {
      "text/plain": [
       "6.666666666666667"
      ]
     },
     "execution_count": 117,
     "metadata": {},
     "output_type": "execute_result"
    }
   ],
   "source": [
    "np.var(arr)"
   ]
  },
  {
   "cell_type": "code",
   "execution_count": 118,
   "id": "c17e0a22",
   "metadata": {},
   "outputs": [
    {
     "data": {
      "text/plain": [
       "5.0"
      ]
     },
     "execution_count": 118,
     "metadata": {},
     "output_type": "execute_result"
    }
   ],
   "source": [
    "np.median(arr)"
   ]
  },
  {
   "cell_type": "code",
   "execution_count": 119,
   "id": "b648baaf",
   "metadata": {},
   "outputs": [
    {
     "data": {
      "text/plain": [
       "2.581988897471611"
      ]
     },
     "execution_count": 119,
     "metadata": {},
     "output_type": "execute_result"
    }
   ],
   "source": [
    "np.std(arr)"
   ]
  },
  {
   "cell_type": "code",
   "execution_count": 120,
   "id": "f305bc1c",
   "metadata": {},
   "outputs": [
    {
     "data": {
      "text/plain": [
       "5.0"
      ]
     },
     "execution_count": 120,
     "metadata": {},
     "output_type": "execute_result"
    }
   ],
   "source": [
    "np.percentile(arr,50)"
   ]
  },
  {
   "cell_type": "code",
   "execution_count": null,
   "id": "7e294ee2",
   "metadata": {},
   "outputs": [],
   "source": []
  },
  {
   "cell_type": "code",
   "execution_count": null,
   "id": "75f85d04",
   "metadata": {},
   "outputs": [],
   "source": []
  },
  {
   "cell_type": "code",
   "execution_count": 121,
   "id": "aea83f10",
   "metadata": {},
   "outputs": [],
   "source": [
    "deg=np.array([0,30,45,60,90])"
   ]
  },
  {
   "cell_type": "code",
   "execution_count": 122,
   "id": "ffb3c3b2",
   "metadata": {},
   "outputs": [
    {
     "data": {
      "text/plain": [
       "array([ 0, 30, 45, 60, 90])"
      ]
     },
     "execution_count": 122,
     "metadata": {},
     "output_type": "execute_result"
    }
   ],
   "source": [
    "deg"
   ]
  },
  {
   "cell_type": "code",
   "execution_count": 136,
   "id": "143e144e",
   "metadata": {},
   "outputs": [
    {
     "name": "stdout",
     "output_type": "stream",
     "text": [
      "[0.         0.5        0.70710678 0.8660254  1.        ]\n"
     ]
    }
   ],
   "source": [
    "AX = np.sin(deg*np.pi/180)\n",
    "print(AX)"
   ]
  },
  {
   "cell_type": "code",
   "execution_count": 133,
   "id": "1ca00802",
   "metadata": {},
   "outputs": [
    {
     "data": {
      "text/plain": [
       "array([0.00000000e+00, 5.77350269e-01, 1.00000000e+00, 1.73205081e+00,\n",
       "       1.63312394e+16])"
      ]
     },
     "execution_count": 133,
     "metadata": {},
     "output_type": "execute_result"
    }
   ],
   "source": [
    "np.tan(deg*np.pi/180)"
   ]
  },
  {
   "cell_type": "code",
   "execution_count": 134,
   "id": "5ea3b6f5",
   "metadata": {},
   "outputs": [
    {
     "data": {
      "text/plain": [
       "array([0.        , 0.52359878, 0.78539816, 1.04719755, 1.57079633])"
      ]
     },
     "execution_count": 134,
     "metadata": {},
     "output_type": "execute_result"
    }
   ],
   "source": [
    "np.arcsin(AX)"
   ]
  },
  {
   "cell_type": "code",
   "execution_count": null,
   "id": "62257883",
   "metadata": {},
   "outputs": [],
   "source": []
  },
  {
   "cell_type": "code",
   "execution_count": 137,
   "id": "31223bc9",
   "metadata": {},
   "outputs": [],
   "source": [
    "arr = np.array([0.7,-0.4,1.3,2.7])\n"
   ]
  },
  {
   "cell_type": "code",
   "execution_count": 138,
   "id": "86018475",
   "metadata": {},
   "outputs": [
    {
     "data": {
      "text/plain": [
       "array([ 0., -1.,  1.,  2.])"
      ]
     },
     "execution_count": 138,
     "metadata": {},
     "output_type": "execute_result"
    }
   ],
   "source": [
    "np.floor(arr)"
   ]
  },
  {
   "cell_type": "code",
   "execution_count": 139,
   "id": "36266486",
   "metadata": {},
   "outputs": [
    {
     "data": {
      "text/plain": [
       "array([ 1., -0.,  2.,  3.])"
      ]
     },
     "execution_count": 139,
     "metadata": {},
     "output_type": "execute_result"
    }
   ],
   "source": [
    "np.ceil(arr)"
   ]
  },
  {
   "cell_type": "code",
   "execution_count": null,
   "id": "a1bee393",
   "metadata": {},
   "outputs": [],
   "source": []
  },
  {
   "cell_type": "code",
   "execution_count": null,
   "id": "dae785ab",
   "metadata": {},
   "outputs": [],
   "source": [
    "# we can do indexing and slicing in arrays using numpy -- 1D,2D,3D"
   ]
  },
  {
   "cell_type": "code",
   "execution_count": 140,
   "id": "c437ba63",
   "metadata": {},
   "outputs": [
    {
     "data": {
      "text/plain": [
       "-0.4"
      ]
     },
     "execution_count": 140,
     "metadata": {},
     "output_type": "execute_result"
    }
   ],
   "source": [
    "arr[1]"
   ]
  },
  {
   "cell_type": "code",
   "execution_count": 141,
   "id": "3dedaafc",
   "metadata": {},
   "outputs": [
    {
     "data": {
      "text/plain": [
       "array([-0.4,  1.3,  2.7])"
      ]
     },
     "execution_count": 141,
     "metadata": {},
     "output_type": "execute_result"
    }
   ],
   "source": [
    "arr[1:]"
   ]
  },
  {
   "cell_type": "code",
   "execution_count": null,
   "id": "02efcc1f",
   "metadata": {},
   "outputs": [],
   "source": []
  }
 ],
 "metadata": {
  "kernelspec": {
   "display_name": "Python 3 (ipykernel)",
   "language": "python",
   "name": "python3"
  },
  "language_info": {
   "codemirror_mode": {
    "name": "ipython",
    "version": 3
   },
   "file_extension": ".py",
   "mimetype": "text/x-python",
   "name": "python",
   "nbconvert_exporter": "python",
   "pygments_lexer": "ipython3",
   "version": "3.9.13"
  }
 },
 "nbformat": 4,
 "nbformat_minor": 5
}
